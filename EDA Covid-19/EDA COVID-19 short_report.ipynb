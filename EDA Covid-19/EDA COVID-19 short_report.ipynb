{
 "cells": [
  {
   "cell_type": "markdown",
   "metadata": {},
   "source": [
    "# Краткий отчет по COVID-19\n",
    "***"
   ]
  },
  {
   "cell_type": "markdown",
   "metadata": {},
   "source": [
    "## Адрес для обновления данных"
   ]
  },
  {
   "cell_type": "markdown",
   "metadata": {},
   "source": [
    "- Данные принадлежат Университету Джона Хопкинса и получены на [Kaggle](https://www.kaggle.com/sudalairajkumar/novel-corona-virus-2019-dataset#time_series_covid_19_confirmed.csv)."
   ]
  },
  {
   "cell_type": "markdown",
   "metadata": {},
   "source": [
    "# 1 Загрузим библиотеки\n",
    "***"
   ]
  },
  {
   "cell_type": "code",
   "execution_count": null,
   "metadata": {},
   "outputs": [],
   "source": [
    "import warnings\n",
    "warnings.filterwarnings('ignore')\n",
    "\n",
    "import numpy as np \n",
    "import pandas as pd \n",
    "\n",
    "from matplotlib import pyplot as plt\n",
    "\n",
    "import plotly as py\n",
    "import plotly.express as px\n",
    "import plotly.graph_objs as go\n",
    "\n",
    "from plotly.subplots import make_subplots\n",
    "from plotly.offline import download_plotlyjs, init_notebook_mode, plot, iplot\n",
    "\n",
    "init_notebook_mode(connected=True)"
   ]
  },
  {
   "cell_type": "markdown",
   "metadata": {},
   "source": [
    "## 1.1 Объявим класс для исследования и наполним его методами"
   ]
  },
  {
   "cell_type": "code",
   "execution_count": null,
   "metadata": {},
   "outputs": [],
   "source": [
    "class DataExplorer:\n",
    "      \n",
    "    def histogram(self, data, n_bins, range_start, range_end, grid, cumulative=False, x_label = '', y_label = '', title = ''):\n",
    "        \n",
    "        \"\"\"\n",
    "        Простая гистограмма\n",
    "        \n",
    "        Пример:\n",
    "        histogram(df, 100, 0, 150, True, 'Количество иксов', 'Количество игриков', 'Заголовок')\n",
    "        \n",
    "        data - датасет\n",
    "        n_bins - количество корзин\n",
    "        range_start - минимальный икс для корзины\n",
    "        range_end - максимальный икс для корзины\n",
    "        grid - рисовать сетку или нет (False / True)\n",
    "        \n",
    "        \n",
    "        histogram(data, n_bins, range_start, range_end, grid, x_label = \"\", y_label = \"\", title = \"\")\n",
    "        \"\"\"\n",
    "        \n",
    "        # Создаем объект - график\n",
    "        _, ax = plt.subplots()\n",
    "\n",
    "        # Задаем параметры\n",
    "        ax.hist(data, bins = n_bins, range = (range_start, range_end), cumulative = cumulative, color = '#4169E1')\n",
    "\n",
    "        # Добавляем сетку\n",
    "        if grid == True:\n",
    "            ax.grid(color='grey', linestyle='-', linewidth=0.5)\n",
    "        else:\n",
    "            pass\n",
    "\n",
    "        # Добавляем медиану, среднее и квартили\n",
    "        ax.axvline(data.median(),linestyle = '--', color = '#FF1493', label = 'median')\n",
    "        ax.axvline(data.mean(),linestyle = '--', color = 'orange', label = 'mean')\n",
    "        ax.axvline(data.quantile(0.1),linestyle = '--', color = 'yellow', label = '1%')\n",
    "        ax.axvline(data.quantile(0.99),linestyle = '--', color = 'yellow', label = '99%')\n",
    "        ax.legend()\n",
    "        ax.set_ylabel(y_label)\n",
    "        ax.set_xlabel(x_label)\n",
    "        ax.set_title(title)        \n",
    "        \n",
    "\n",
    "    def plotly_bar(self, data, x, y, color, x_axis_title, y_axis_title, title):\n",
    "        \"\"\"\n",
    "        Рисует интерактивный столбчатый график\n",
    "        \n",
    "        Пример:\n",
    "        explorer.plotly_bar(top_ten, 'city', 'average_flights', 'average_flights', '', 'Количество рейсов', 'Топ-10 городов по количеству рейсов')\n",
    "        \"\"\"\n",
    "        \n",
    "        fig = px.bar(data, x=data[x], y=data[y], color=color, color_continuous_scale='portland')\n",
    "        \n",
    "        fig.update_layout(title=title,\n",
    "        xaxis_title=x_axis_title,\n",
    "        yaxis_title=y_axis_title,\n",
    "        font=dict(\n",
    "        family=\"Garamond', monospace\",\n",
    "        size=13,\n",
    "        color='#7f7f7f'),\n",
    "        template='plotly_white',\n",
    "        showlegend=False)\n",
    "        \n",
    "        fig.show() \n",
    "        \n",
    "        \n",
    "    def plotly_choropleth(self, data, z='confirmed', title=''):\n",
    "        \"\"\"\n",
    "        Рисует интерактивную карту\n",
    "        \n",
    "        Пример:\n",
    "        explorer.plotly_choropleth(z='recovered', title='Число вылечившхся на 19.01.2021 года')\n",
    "        \"\"\"\n",
    "            \n",
    "        fig = go.Figure(data=go.Choropleth(\n",
    "            locations = data['country'],\n",
    "            locationmode = 'country names',\n",
    "            z = data[z],\n",
    "            colorscale = 'Redor',\n",
    "            marker_line_color = 'black',\n",
    "            marker_line_width = 0.5,\n",
    "        ))\n",
    "        \n",
    "        fig.update_layout(title_text = title,\n",
    "                          title_x = 0.5,\n",
    "                          geo=dict(showframe = False, showcoastlines = False, projection_type = 'equirectangular'))\n",
    "        \n",
    "        fig.show()\n",
    "        \n",
    "        \n",
    "    def plotly_animated_choropleth(self, data, color='confirmed', title=''):        \n",
    "        fig = px.choropleth(data, \n",
    "                    locations='country', \n",
    "                    locationmode = 'country names',\n",
    "                    color=color, \n",
    "                    hover_name='country', \n",
    "                    animation_frame='date'\n",
    "                   )\n",
    "        fig.update_layout(\n",
    "            title_text = title,\n",
    "            title_x = 0.5,\n",
    "            geo=dict(\n",
    "                showframe = False,\n",
    "                showcoastlines = False,\n",
    "            ))\n",
    "\n",
    "        fig.show()\n",
    "        \n",
    "    def plotly_sided_bar(self, data):\n",
    "        fig = go.Figure()\n",
    "        fig.add_trace(go.Bar(\n",
    "            x=data['country'],\n",
    "            y=data['confirmed'],\n",
    "            name='confirmed',\n",
    "            marker_color='blue'\n",
    "        ))\n",
    "        fig.add_trace(go.Bar(\n",
    "            x=data['country'],\n",
    "            y=data['recovered'],\n",
    "            name='recovered',\n",
    "            marker_color='red'))\n",
    "        fig.add_trace(go.Bar(\n",
    "            x=data['country'],\n",
    "            y=data['deaths'],\n",
    "            name='deaths',\n",
    "            marker_color='green'\n",
    "        ))\n",
    "        fig.update_layout(font=dict(family=\"Garamond', monospace\",\n",
    "                                    size=13,\n",
    "                                    color='#7f7f7f'),\n",
    "                          template='plotly_white',\n",
    "                          xaxis_tickangle=-45,\n",
    "                          showlegend=True)\n",
    "        fig.show()\n",
    "        \n",
    "    def plotly_stack(self, data):    \n",
    "        fig = go.Figure(data=[\n",
    "            go.Bar(name='confirmed', x=data['country'], y=data['confirmed']),\n",
    "            go.Bar(name='recovered', x=data['country'], y=data['recovered']),\n",
    "            go.Bar(name='deaths', x=data['country'], y=data['deaths'])\n",
    "        ])\n",
    "\n",
    "        fig.update_layout(barmode='stack',\n",
    "                          font=dict(family=\"Garamond', monospace\",\n",
    "                                    size=13,\n",
    "                                    color='#7f7f7f'),\n",
    "                          template='plotly_white',\n",
    "                          xaxis_tickangle=-45,\n",
    "                          showlegend=True)\n",
    "        fig.show()\n",
    "        \n",
    "\n",
    "    def firstsight(self, data):\n",
    "        \n",
    "        \"\"\"\n",
    "        Возврашает пять первых, последних и случайных элементов датасета для дальнейшего вывода с помощью Display\n",
    "        \n",
    "        Пример:\n",
    "        head, tail, sample = explorer.firstsight(df)\n",
    "        \"\"\"\n",
    "        \n",
    "        head = data.head(5)\n",
    "        tail = data.tail(5)\n",
    "        sample = data.sample(5)\n",
    "        \n",
    "        return head, tail, sample\n",
    "    \n",
    "    def reporter(self, confirmed, deaths, recovered):\n",
    "        cfr = (deaths / (deaths + recovered)) * 100\n",
    "\n",
    "        print('1. По состоянию на 19.01.2021 года:' + '\\n' + \n",
    "              ' - заболело {} '.format(confirmed)  + 'человек' + '\\n' +\n",
    "              ' - умерло {} '.format(deaths)  + 'человек' + '\\n' +\n",
    "              ' - выздоровело {} '.format(recovered)  + 'человек' + '\\n' +\n",
    "              '2. На сегодняшний день, исходя из представленных данных,' +\n",
    "              'принимая во внимание короткий период наблюдений летальность COVID-19 ' +\n",
    "              'составляет {:.2f} %'.format(cfr))    \n",
    "        \n",
    "    class Display(object):\n",
    "        \"\"\"\n",
    "        Выводит HTML представление нескольких объектов\n",
    "        \n",
    "        Пример:\n",
    "        Display(head, tail, sample)\n",
    "        \n",
    "        \"\"\"\n",
    "        template = \"\"\"<div style=\"float: left; padding: 10px;\">\n",
    "        <p style='font-family:\"Courier New\", Courier, monospace'>{0}</p>{1}\n",
    "        </div>\"\"\"\n",
    "        def __init__(self, *args):\n",
    "            self.args = args\n",
    "\n",
    "        def _repr_html_(self):\n",
    "            return '\\n'.join(self.template.format(a, eval(a)._repr_html_())\n",
    "                             for a in self.args)\n",
    "\n",
    "        def __repr__(self):\n",
    "            return '\\n\\n'.join(a + '\\n' + repr(eval(a))\n",
    "                               for a in self.args)"
   ]
  },
  {
   "cell_type": "code",
   "execution_count": null,
   "metadata": {},
   "outputs": [],
   "source": [
    "explorer = DataExplorer()"
   ]
  },
  {
   "cell_type": "markdown",
   "metadata": {},
   "source": [
    "# 2 Прочитаем данные"
   ]
  },
  {
   "cell_type": "markdown",
   "metadata": {},
   "source": [
    "#### - прочитаем данные в переменную"
   ]
  },
  {
   "cell_type": "code",
   "execution_count": null,
   "metadata": {},
   "outputs": [],
   "source": [
    "df = pd.read_csv('covid_19_data.csv')"
   ]
  },
  {
   "cell_type": "markdown",
   "metadata": {},
   "source": [
    "# 3 Изменим регистр в наименовании столбцов, перименуем столбцы, приведенм данные к целочисленному типу"
   ]
  },
  {
   "cell_type": "markdown",
   "metadata": {},
   "source": [
    "#### - приведем к строчному написанию заголовки столбцов"
   ]
  },
  {
   "cell_type": "code",
   "execution_count": null,
   "metadata": {},
   "outputs": [],
   "source": [
    "df.columns = map(str.lower, df.columns)"
   ]
  },
  {
   "cell_type": "markdown",
   "metadata": {},
   "source": [
    "#### - переименуем столбцы с датой, регионом и страной, отбросим столбец 'last update' и 'sno' как неинформативные"
   ]
  },
  {
   "cell_type": "code",
   "execution_count": null,
   "metadata": {},
   "outputs": [],
   "source": [
    "df.drop(['sno','last update'], axis=1, inplace=True)"
   ]
  },
  {
   "cell_type": "code",
   "execution_count": null,
   "metadata": {},
   "outputs": [],
   "source": [
    "df.rename(columns={'observationdate': 'date',\n",
    "                   'province/state': 'state',\n",
    "                   'country/region':'country'}, inplace=True)"
   ]
  },
  {
   "cell_type": "markdown",
   "metadata": {},
   "source": [
    "#### - приведем столбы с наблюдениями о числе зараженных, умерших и выздоровевших в целочисленный тип, поскольку это дискретные величины"
   ]
  },
  {
   "cell_type": "code",
   "execution_count": null,
   "metadata": {},
   "outputs": [],
   "source": [
    "df['confirmed'] = df.confirmed.astype('int')\n",
    "df['deaths'] = df.deaths.astype('int')\n",
    "df['recovered'] = df.recovered.astype('int')"
   ]
  },
  {
   "cell_type": "markdown",
   "metadata": {},
   "source": [
    "# 4 Подсчитаем летальность от COVID-19 на 19.01.2021 года"
   ]
  },
  {
   "cell_type": "markdown",
   "metadata": {},
   "source": [
    "#### - определение летальности"
   ]
  },
  {
   "cell_type": "markdown",
   "metadata": {},
   "source": [
    "- **[Летальность](https://ru.wikipedia.org/wiki/%D0%9B%D0%B5%D1%82%D0%B0%D0%BB%D1%8C%D0%BD%D0%BE%D1%81%D1%82%D1%8C)** — показатель медицинской статистики, равный отношению числа умерших от определённого заболевания или иного нарушения здоровья за определённый период времени к общему числу людей, имевших тот же диагноз в рамках того же периода времени. Обычно выражается в процентах. Показатель летальности не постоянен, он может изменяться между популяциями, а также с течением времени. Летальность зависит от разных факторов, которые могут включать особенности патогена в случае заболевания, состояние организма, внешние обстоятельства, способы лечения и качество ухода за больными. Расчётным периодом часто является год."
   ]
  },
  {
   "cell_type": "markdown",
   "metadata": {},
   "source": [
    "#### - формула для расчета"
   ]
  },
  {
   "cell_type": "markdown",
   "metadata": {},
   "source": [
    "$$\n",
    "\\displaystyle {{умерло}\\over{(умерло + вылечилось)}} \\times 100 %\n",
    "$$"
   ]
  },
  {
   "cell_type": "markdown",
   "metadata": {},
   "source": [
    "#### - подготовим данные для расчета"
   ]
  },
  {
   "cell_type": "markdown",
   "metadata": {},
   "source": [
    "- Сгруппируем по странам и датам, отсортируем по дате и избавимся от дубликатов, чтобы оставить только последние заиксированные наблюдения, отберем только наблюдения с потвержденными случаями"
   ]
  },
  {
   "cell_type": "code",
   "execution_count": null,
   "metadata": {},
   "outputs": [],
   "source": [
    "df_total = df.groupby(['country', 'date']).sum().reset_index().sort_values('date', ascending=False).drop_duplicates(subset = ['country'])\n",
    "df_total = df_total[df_total['confirmed'] > 0]"
   ]
  },
  {
   "cell_type": "markdown",
   "metadata": {},
   "source": [
    "#### - соберем данные о зараженных, умерших и выздоровевших"
   ]
  },
  {
   "cell_type": "code",
   "execution_count": null,
   "metadata": {},
   "outputs": [],
   "source": [
    "confirmed = df_total.confirmed.sum()\n",
    "deaths = df_total.deaths.sum()\n",
    "recovered = df_total.recovered.sum()"
   ]
  },
  {
   "cell_type": "markdown",
   "metadata": {},
   "source": [
    "#### - расчитаем летальность по формуле"
   ]
  },
  {
   "cell_type": "code",
   "execution_count": null,
   "metadata": {},
   "outputs": [],
   "source": [
    "cfr = (df_total.deaths.sum() / (df_total.deaths.sum() + df_total.recovered.sum())) * 100"
   ]
  },
  {
   "cell_type": "markdown",
   "metadata": {},
   "source": [
    "&#9889; **Вывод:** "
   ]
  },
  {
   "cell_type": "code",
   "execution_count": null,
   "metadata": {},
   "outputs": [],
   "source": [
    "explorer.reporter(confirmed, deaths, recovered)"
   ]
  },
  {
   "cell_type": "markdown",
   "metadata": {},
   "source": [
    "# 5 Визуализируем данные о числе зараженных на 19.01.2021 года"
   ]
  },
  {
   "cell_type": "markdown",
   "metadata": {},
   "source": [
    "#### - визуализируем общую карту с числом подтвержденных случаев"
   ]
  },
  {
   "cell_type": "code",
   "execution_count": null,
   "metadata": {},
   "outputs": [],
   "source": [
    "explorer.plotly_choropleth(df_total, z='confirmed', title='Подтвержденные случаи на 19.01.2021 года')"
   ]
  },
  {
   "cell_type": "markdown",
   "metadata": {},
   "source": [
    "#### - визуализируем соотношение заболевших, умерших и выздоровевших для первых десяти странами по числу выявленных зараженных"
   ]
  },
  {
   "cell_type": "code",
   "execution_count": null,
   "metadata": {},
   "outputs": [],
   "source": [
    "top_ten = df_total.sort_values(by='confirmed', ascending=False).head(10)"
   ]
  },
  {
   "cell_type": "code",
   "execution_count": null,
   "metadata": {},
   "outputs": [],
   "source": [
    "explorer.plotly_sided_bar(top_ten)"
   ]
  },
  {
   "cell_type": "markdown",
   "metadata": {},
   "source": [
    "#### - выведем три страны с самым большим числом заболевших на сегодняшний день"
   ]
  },
  {
   "cell_type": "code",
   "execution_count": null,
   "metadata": {},
   "outputs": [],
   "source": [
    "top_ten.head(3)"
   ]
  },
  {
   "cell_type": "markdown",
   "metadata": {},
   "source": [
    "#### - выведем статистику для России на сегодняшний день"
   ]
  },
  {
   "cell_type": "code",
   "execution_count": null,
   "metadata": {},
   "outputs": [],
   "source": [
    "df_total[df_total['country'] == 'Russia']"
   ]
  }
 ],
 "metadata": {
  "kernelspec": {
   "display_name": "Python 3",
   "language": "python",
   "name": "python3"
  },
  "language_info": {
   "codemirror_mode": {
    "name": "ipython",
    "version": 3
   },
   "file_extension": ".py",
   "mimetype": "text/x-python",
   "name": "python",
   "nbconvert_exporter": "python",
   "pygments_lexer": "ipython3",
   "version": "3.7.9"
  },
  "toc": {
   "base_numbering": 1,
   "nav_menu": {},
   "number_sections": false,
   "sideBar": true,
   "skip_h1_title": false,
   "title_cell": "Оглавление",
   "title_sidebar": "Содержание",
   "toc_cell": false,
   "toc_position": {
    "height": "calc(100% - 180px)",
    "left": "10px",
    "top": "150px",
    "width": "216px"
   },
   "toc_section_display": true,
   "toc_window_display": true
  },
  "varInspector": {
   "cols": {
    "lenName": 16,
    "lenType": 16,
    "lenVar": 40
   },
   "kernels_config": {
    "python": {
     "delete_cmd_postfix": "",
     "delete_cmd_prefix": "del ",
     "library": "var_list.py",
     "varRefreshCmd": "print(var_dic_list())"
    },
    "r": {
     "delete_cmd_postfix": ") ",
     "delete_cmd_prefix": "rm(",
     "library": "var_list.r",
     "varRefreshCmd": "cat(var_dic_list()) "
    }
   },
   "oldHeight": 394,
   "position": {
    "height": "40px",
    "left": "1546px",
    "right": "20px",
    "top": "120px",
    "width": "354px"
   },
   "types_to_exclude": [
    "module",
    "function",
    "builtin_function_or_method",
    "instance",
    "_Feature"
   ],
   "varInspector_section_display": "none",
   "window_display": true
  }
 },
 "nbformat": 4,
 "nbformat_minor": 4
}
