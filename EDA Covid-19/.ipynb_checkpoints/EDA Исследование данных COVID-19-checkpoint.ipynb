{
 "cells": [
  {
   "cell_type": "markdown",
   "metadata": {},
   "source": [
    "# Анализ распространения COVID-19\n",
    "***"
   ]
  },
  {
   "cell_type": "markdown",
   "metadata": {
    "toc": true
   },
   "source": [
    "<h1>Оглавление<span class=\"tocSkip\"></span></h1>\n",
    "<div class=\"toc\"><ul class=\"toc-item\"><li><span><a href=\"#Описание-данных\" data-toc-modified-id=\"Описание-данных-1\">Описание данных</a></span><ul class=\"toc-item\"><li><span><a href=\"#Контекст\" data-toc-modified-id=\"Контекст-1.1\">Контекст</a></span></li><li><span><a href=\"#Содержание\" data-toc-modified-id=\"Содержание-1.2\">Содержание</a></span></li><li><span><a href=\"#Описание-столбцов\" data-toc-modified-id=\"Описание-столбцов-1.3\">Описание столбцов</a></span></li></ul></li><li><span><a href=\"#1-Загрузим-библиотеки\" data-toc-modified-id=\"1-Загрузим-библиотеки-2\">1 Загрузим библиотеки</a></span><ul class=\"toc-item\"><li><span><a href=\"#1.1-Объявим-класс-для-исследования-и-наполним-его-методами\" data-toc-modified-id=\"1.1-Объявим-класс-для-исследования-и-наполним-его-методами-2.1\">1.1 Объявим класс для исследования и наполним его методами</a></span></li></ul></li><li><span><a href=\"#2-Ознакомимся-с-данными\" data-toc-modified-id=\"2-Ознакомимся-с-данными-3\">2 Ознакомимся с данными</a></span><ul class=\"toc-item\"><li><span><a href=\"#2.1-Прочитаем-данные-в-переменную\" data-toc-modified-id=\"2.1-Прочитаем-данные-в-переменную-3.1\">2.1 Прочитаем данные в переменную</a></span></li><li><span><a href=\"#2.2-Выведем-первые,-последние-и-случайные-пять-строк\" data-toc-modified-id=\"2.2-Выведем-первые,-последние-и-случайные-пять-строк-3.2\">2.2 Выведем первые, последние и случайные пять строк</a></span></li><li><span><a href=\"#2.3-Выведем-общую-информацию-о-датасете,-общую-статистику,-проверим-дубликаты,-уникальные-значения\" data-toc-modified-id=\"2.3-Выведем-общую-информацию-о-датасете,-общую-статистику,-проверим-дубликаты,-уникальные-значения-3.3\">2.3 Выведем общую информацию о датасете, общую статистику, проверим дубликаты, уникальные значения</a></span><ul class=\"toc-item\"><li><ul class=\"toc-item\"><li><span><a href=\"#--общая-информация-и-статистика-о-датасете\" data-toc-modified-id=\"--общая-информация-и-статистика-о-датасете-3.3.0.1\">- общая информация и статистика о датасете</a></span></li><li><span><a href=\"#--проверим-наличие-полных-дубликатов\" data-toc-modified-id=\"--проверим-наличие-полных-дубликатов-3.3.0.2\">- проверим наличие полных дубликатов</a></span></li></ul></li></ul></li></ul></li><li><span><a href=\"#3-Изменим-регистр-в-наименовании-столбцов,-перименуем-столбцы,-приведенм-данные-к-целочисленному-типу\" data-toc-modified-id=\"3-Изменим-регистр-в-наименовании-столбцов,-перименуем-столбцы,-приведенм-данные-к-целочисленному-типу-4\">3 Изменим регистр в наименовании столбцов, перименуем столбцы, приведенм данные к целочисленному типу</a></span><ul class=\"toc-item\"><li><ul class=\"toc-item\"><li><ul class=\"toc-item\"><li><span><a href=\"#--приведем-к-строчному-написанию-заголовки-столбцов\" data-toc-modified-id=\"--приведем-к-строчному-написанию-заголовки-столбцов-4.0.0.1\">- приведем к строчному написанию заголовки столбцов</a></span></li><li><span><a href=\"#--переименуем-столбцы-с-датой,-регионом-и-страной,-отбросим-столбец-'last-update'-и-'sno'-как-неинформативные\" data-toc-modified-id=\"--переименуем-столбцы-с-датой,-регионом-и-страной,-отбросим-столбец-'last-update'-и-'sno'-как-неинформативные-4.0.0.2\">- переименуем столбцы с датой, регионом и страной, отбросим столбец 'last update' и 'sno' как неинформативные</a></span></li><li><span><a href=\"#--приведем-столбы-с-наблюдениями-о-числе-зараженных,-умерших-и-выздоровевших-в-целочисленный-тип,-поскольку-это-дискретные-величины\" data-toc-modified-id=\"--приведем-столбы-с-наблюдениями-о-числе-зараженных,-умерших-и-выздоровевших-в-целочисленный-тип,-поскольку-это-дискретные-величины-4.0.0.3\">- приведем столбы с наблюдениями о числе зараженных, умерших и выздоровевших в целочисленный тип, поскольку это дискретные величины</a></span></li></ul></li></ul></li></ul></li><li><span><a href=\"#4-Ознакомимся-с-данными-в-столбцах\" data-toc-modified-id=\"4-Ознакомимся-с-данными-в-столбцах-5\">4 Ознакомимся с данными в столбцах</a></span><ul class=\"toc-item\"><li><ul class=\"toc-item\"><li><ul class=\"toc-item\"><li><span><a href=\"#--confirmed-(число-подтвержденных-случаев)\" data-toc-modified-id=\"--confirmed-(число-подтвержденных-случаев)-5.0.0.1\">- confirmed (число подтвержденных случаев)</a></span></li><li><span><a href=\"#--deaths-(число-смертей)\" data-toc-modified-id=\"--deaths-(число-смертей)-5.0.0.2\">- deaths (число смертей)</a></span></li><li><span><a href=\"#--recovered-(число-вылечившихся)\" data-toc-modified-id=\"--recovered-(число-вылечившихся)-5.0.0.3\">- recovered (число вылечившихся)</a></span></li></ul></li></ul></li></ul></li><li><span><a href=\"#5-Подсчитаем-летальность-от-COVID-19-на-07.04.2020-года\" data-toc-modified-id=\"5-Подсчитаем-летальность-от-COVID-19-на-07.04.2020-года-6\">5 Подсчитаем летальность от COVID-19 на 07.04.2020 года</a></span><ul class=\"toc-item\"><li><ul class=\"toc-item\"><li><ul class=\"toc-item\"><li><span><a href=\"#--определение-летальности\" data-toc-modified-id=\"--определение-летальности-6.0.0.1\">- определение летальности</a></span></li><li><span><a href=\"#--формула-для-расчета\" data-toc-modified-id=\"--формула-для-расчета-6.0.0.2\">- формула для расчета</a></span></li><li><span><a href=\"#--подготовим-данные-для-расчета\" data-toc-modified-id=\"--подготовим-данные-для-расчета-6.0.0.3\">- подготовим данные для расчета</a></span></li><li><span><a href=\"#--выведем-общее-число-заболевших\" data-toc-modified-id=\"--выведем-общее-число-заболевших-6.0.0.4\">- выведем общее число заболевших</a></span></li><li><span><a href=\"#--выведем-общее-число-умерших\" data-toc-modified-id=\"--выведем-общее-число-умерших-6.0.0.5\">- выведем общее число умерших</a></span></li><li><span><a href=\"#--выведем-общее-число-выздоровевших\" data-toc-modified-id=\"--выведем-общее-число-выздоровевших-6.0.0.6\">- выведем общее число выздоровевших</a></span></li><li><span><a href=\"#--расчитаем-летальность-по-формуле-и-выведем-итоговый-отчет\" data-toc-modified-id=\"--расчитаем-летальность-по-формуле-и-выведем-итоговый-отчет-6.0.0.7\">- расчитаем летальность по формуле и выведем итоговый отчет</a></span></li></ul></li></ul></li></ul></li><li><span><a href=\"#6-Визуализируем-данные-о-числе-зараженных-на-07.04.2020-года\" data-toc-modified-id=\"6-Визуализируем-данные-о-числе-зараженных-на-07.04.2020-года-7\">6 Визуализируем данные о числе зараженных на 07.04.2020 года</a></span><ul class=\"toc-item\"><li><ul class=\"toc-item\"><li><ul class=\"toc-item\"><li><span><a href=\"#--визуализируем-общую-карту-с-числом-подтвержденных-случаев\" data-toc-modified-id=\"--визуализируем-общую-карту-с-числом-подтвержденных-случаев-7.0.0.1\">- визуализируем общую карту с числом подтвержденных случаев</a></span></li><li><span><a href=\"#--нарисуем-столбчатый-график-с-первыми-десятью-странами-по-числу-выявленных-зараженных\" data-toc-modified-id=\"--нарисуем-столбчатый-график-с-первыми-десятью-странами-по-числу-выявленных-зараженных-7.0.0.2\">- нарисуем столбчатый график с первыми десятью странами по числу выявленных зараженных</a></span></li><li><span><a href=\"#--визуализируем-соотношение-заболевших,-умерших-и-выздоровевших-для-первых-десяти-странами-по-числу-выявленных-зараженных\" data-toc-modified-id=\"--визуализируем-соотношение-заболевших,-умерших-и-выздоровевших-для-первых-десяти-странами-по-числу-выявленных-зараженных-7.0.0.3\">- визуализируем соотношение заболевших, умерших и выздоровевших для первых десяти странами по числу выявленных зараженных</a></span></li><li><span><a href=\"#--выведем-три-страны-с-самым-большим-числом-заболевших-на-сегодняшний-день\" data-toc-modified-id=\"--выведем-три-страны-с-самым-большим-числом-заболевших-на-сегодняшний-день-7.0.0.4\">- выведем три страны с самым большим числом заболевших на сегодняшний день</a></span></li><li><span><a href=\"#--выведем-статистику-для-России-на-сегодняшний-день\" data-toc-modified-id=\"--выведем-статистику-для-России-на-сегодняшний-день-7.0.0.5\">- выведем статистику для России на сегодняшний день</a></span></li></ul></li></ul></li></ul></li><li><span><a href=\"#7-Визуализируем-динамику-распространения-COVID-19\" data-toc-modified-id=\"7-Визуализируем-динамику-распространения-COVID-19-8\">7 Визуализируем динамику распространения COVID-19</a></span><ul class=\"toc-item\"><li><ul class=\"toc-item\"><li><ul class=\"toc-item\"><li><span><a href=\"#--подготовим-сводные-данные-по-дате\" data-toc-modified-id=\"--подготовим-сводные-данные-по-дате-8.0.0.1\">- подготовим сводные данные по дате</a></span></li><li><span><a href=\"#--визуализируем-динамику-распространения-COVID-19\" data-toc-modified-id=\"--визуализируем-динамику-распространения-COVID-19-8.0.0.2\">- визуализируем динамику распространения COVID-19</a></span></li></ul></li></ul></li></ul></li></ul></div>"
   ]
  },
  {
   "cell_type": "markdown",
   "metadata": {},
   "source": [
    "# Описание данных\n",
    "***"
   ]
  },
  {
   "cell_type": "markdown",
   "metadata": {},
   "source": [
    "## Контекст"
   ]
  },
  {
   "cell_type": "markdown",
   "metadata": {},
   "source": [
    "- Всемирная организация здравоохранения - 31 декабря 2019 года ВОЗ была предупреждена о нескольких случаях пневмонии в городе Ухань, провинция Хубэй, Китай. Вирус не соответствует ни одному другому известному вирусу. Это вызвало обеспокоенность, потому что когда вирус новый, мы не знаем, как он влияет на людей.\n",
    "\n",
    "- Таким образом, информация на ежедневном уровне о затронутых людях может дать некоторую интересную информацию, когда она станет доступной для более широкого сообщества специалистов в области данных.\n",
    "\n",
    "- Данные принадлежат Университету Джона Хопкинса и получены на [Kaggle](https://www.kaggle.com/sudalairajkumar/novel-corona-virus-2019-dataset#time_series_covid_19_confirmed.csv)."
   ]
  },
  {
   "cell_type": "markdown",
   "metadata": {},
   "source": [
    "## Содержание"
   ]
  },
  {
   "cell_type": "markdown",
   "metadata": {},
   "source": [
    "- Новый коронавирус 2019 года (2019-COVID) - это вирус (точнее, коронавирус), идентифицированный как причина вспышки респираторного заболевания, впервые обнаруженной в Ухани, Китай. По сообщениям, на ранних стадиях многие из пациентов, участвовавших в вспышке заболевания в Ухане, Китай, имели какую-то связь с крупным рынком морепродуктов и животных, что предполагает распространение от человека к человеку. Однако растущее число пациентов, по сообщениям, не имело контакта с рынками животных, что указывает на то, что происходит распространение от человека к человеку. В настоящее время неясно, насколько легко или устойчиво этот вирус распространяется между людьми - CDC\n",
    "\n",
    "- Данные содержат ежедневную информацию о количестве пораженных случаев, смертности и восстановлении после нового коронавируса 2019 года. Это данные временного ряда, и поэтому число дел в любой день является накопительным числом.\n",
    "\n",
    "- Данные доступны с 22 января 2020 года."
   ]
  },
  {
   "cell_type": "markdown",
   "metadata": {},
   "source": [
    "## Описание столбцов"
   ]
  },
  {
   "cell_type": "markdown",
   "metadata": {},
   "source": [
    "- 1) Sno - Серийный номер\n",
    "- 2) ObservationDate - Дата наблюдения в ММ / ДД / ГГГГ\n",
    "- 3) Провинция / Штат - Провинция или штат наблюдения (может отсутствовать при отсутствии)\n",
    "- 4) Страна / Регион - Страна наблюдения\n",
    "- 5) Последнее обновление - время в UTC, в которое строка обновляется для данной провинции или страны. (Не стандартизирован и поэтому, пожалуйста, очистите его перед использованием)\n",
    "- 6) Подтверждено - Совокупное количество подтвержденных случаев до этой даты\n",
    "- 7) Смертей - Общее число смертей на эту дату\n",
    "- 8) Восстановлено - Совокупное количество восстановленных случаев до этой даты"
   ]
  },
  {
   "cell_type": "markdown",
   "metadata": {},
   "source": [
    "# 1 Загрузим библиотеки\n",
    "***"
   ]
  },
  {
   "cell_type": "code",
   "execution_count": null,
   "metadata": {},
   "outputs": [],
   "source": [
    "import warnings\n",
    "warnings.filterwarnings('ignore')\n",
    "\n",
    "import numpy as np \n",
    "import pandas as pd \n",
    "\n",
    "from matplotlib import pyplot as plt\n",
    "\n",
    "import plotly as py\n",
    "import plotly.express as px\n",
    "import plotly.graph_objs as go\n",
    "\n",
    "from plotly.subplots import make_subplots\n",
    "from plotly.offline import download_plotlyjs, init_notebook_mode, plot, iplot\n",
    "\n",
    "init_notebook_mode(connected=True)"
   ]
  },
  {
   "cell_type": "markdown",
   "metadata": {},
   "source": [
    "## 1.1 Объявим класс для исследования и наполним его методами"
   ]
  },
  {
   "cell_type": "code",
   "execution_count": null,
   "metadata": {},
   "outputs": [],
   "source": [
    "class DataExplorer:\n",
    "      \n",
    "    def histogram(self, data, n_bins, range_start, range_end, grid, cumulative=False, x_label = '', y_label = '', title = ''):\n",
    "        \n",
    "        \"\"\"\n",
    "        Простая гистограмма\n",
    "        \n",
    "        Пример:\n",
    "        histogram(df, 100, 0, 150, True, 'Количество иксов', 'Количество игриков', 'Заголовок')\n",
    "        \n",
    "        data - датасет\n",
    "        n_bins - количество корзин\n",
    "        range_start - минимальный икс для корзины\n",
    "        range_end - максимальный икс для корзины\n",
    "        grid - рисовать сетку или нет (False / True)\n",
    "        \n",
    "        \n",
    "        histogram(data, n_bins, range_start, range_end, grid, x_label = \"\", y_label = \"\", title = \"\")\n",
    "        \"\"\"\n",
    "        \n",
    "        # Создаем объект - график\n",
    "        _, ax = plt.subplots()\n",
    "\n",
    "        # Задаем параметры\n",
    "        ax.hist(data, bins = n_bins, range = (range_start, range_end), cumulative = cumulative, color = '#4169E1')\n",
    "\n",
    "        # Добавляем сетку\n",
    "        if grid == True:\n",
    "            ax.grid(color='grey', linestyle='-', linewidth=0.5)\n",
    "        else:\n",
    "            pass\n",
    "\n",
    "        # Добавляем медиану, среднее и квартили\n",
    "        ax.axvline(data.median(),linestyle = '--', color = '#FF1493', label = 'median')\n",
    "        ax.axvline(data.mean(),linestyle = '--', color = 'orange', label = 'mean')\n",
    "        ax.axvline(data.quantile(0.1),linestyle = '--', color = 'yellow', label = '1%')\n",
    "        ax.axvline(data.quantile(0.99),linestyle = '--', color = 'yellow', label = '99%')\n",
    "        ax.legend()\n",
    "        ax.set_ylabel(y_label)\n",
    "        ax.set_xlabel(x_label)\n",
    "        ax.set_title(title)        \n",
    "        \n",
    "\n",
    "    def plotly_bar(self, data, x, y, color, x_axis_title, y_axis_title, title):\n",
    "        \"\"\"\n",
    "        Рисует интерактивный столбчатый график\n",
    "        \n",
    "        Пример:\n",
    "        explorer.plotly_bar(top_ten, 'city', 'average_flights', 'average_flights', '', 'Количество рейсов', 'Топ-10 городов по количеству рейсов')\n",
    "        \"\"\"\n",
    "        \n",
    "        fig = px.bar(data, x=data[x], y=data[y], color=color, color_continuous_scale='portland')\n",
    "        \n",
    "        fig.update_layout(title=title,\n",
    "        xaxis_title=x_axis_title,\n",
    "        yaxis_title=y_axis_title,\n",
    "        font=dict(\n",
    "        family=\"Garamond', monospace\",\n",
    "        size=13,\n",
    "        color='#7f7f7f'),\n",
    "        template='plotly_white',\n",
    "        showlegend=False)\n",
    "        \n",
    "        fig.show() \n",
    "        \n",
    "        \n",
    "    def plotly_choropleth(self, data, z='confirmed', title=''):\n",
    "        \"\"\"\n",
    "        Рисует интерактивную карту\n",
    "        \n",
    "        Пример:\n",
    "        explorer.plotly_choropleth(z='recovered', title='Число вылечившхся')\n",
    "        \"\"\"\n",
    "            \n",
    "        fig = go.Figure(data=go.Choropleth(\n",
    "            locations = data['country'],\n",
    "            locationmode = 'country names',\n",
    "            z = data[z],\n",
    "            colorscale = 'Redor',\n",
    "            marker_line_color = 'black',\n",
    "            marker_line_width = 0.5,\n",
    "        ))\n",
    "        \n",
    "        fig.update_layout(title_text = title,\n",
    "                          title_x = 0.5,\n",
    "                          geo=dict(showframe = False, showcoastlines = False, projection_type = 'equirectangular'))\n",
    "        \n",
    "        fig.show()\n",
    "        \n",
    "        \n",
    "    def plotly_animated_choropleth(self, data, color='confirmed', title=''):        \n",
    "        fig = px.choropleth(data, \n",
    "                    locations='country', \n",
    "                    locationmode = 'country names',\n",
    "                    color=color, \n",
    "                    hover_name='country', \n",
    "                    animation_frame='date'\n",
    "                   )\n",
    "        fig.update_layout(\n",
    "            title_text = title,\n",
    "            title_x = 0.5,\n",
    "            geo=dict(\n",
    "                showframe = False,\n",
    "                showcoastlines = False,\n",
    "            ))\n",
    "\n",
    "        fig.show()\n",
    "        \n",
    "    def plotly_sided_bar(self, data):\n",
    "        fig = go.Figure()\n",
    "        fig.add_trace(go.Bar(\n",
    "            x=data['country'],\n",
    "            y=data['confirmed'],\n",
    "            name='confirmed',\n",
    "            marker_color='blue'\n",
    "        ))\n",
    "        fig.add_trace(go.Bar(\n",
    "            x=data['country'],\n",
    "            y=data['recovered'],\n",
    "            name='recovered',\n",
    "            marker_color='red'))\n",
    "        fig.add_trace(go.Bar(\n",
    "            x=data['country'],\n",
    "            y=data['deaths'],\n",
    "            name='deaths',\n",
    "            marker_color='green'\n",
    "        ))\n",
    "        fig.update_layout(font=dict(family=\"Garamond', monospace\",\n",
    "                                    size=13,\n",
    "                                    color='#7f7f7f'),\n",
    "                          template='plotly_white',\n",
    "                          xaxis_tickangle=-45,\n",
    "                          showlegend=True)\n",
    "        fig.show()\n",
    "        \n",
    "    def plotly_stack(self, data):    \n",
    "        fig = go.Figure(data=[\n",
    "            go.Bar(name='confirmed', x=data['country'], y=data['confirmed']),\n",
    "            go.Bar(name='recovered', x=data['country'], y=data['recovered']),\n",
    "            go.Bar(name='deaths', x=data['country'], y=data['deaths'])\n",
    "        ])\n",
    "\n",
    "        fig.update_layout(barmode='stack',\n",
    "                          font=dict(family=\"Garamond', monospace\",\n",
    "                                    size=13,\n",
    "                                    color='#7f7f7f'),\n",
    "                          template='plotly_white',\n",
    "                          xaxis_tickangle=-45,\n",
    "                          showlegend=True)\n",
    "        fig.show()\n",
    "        \n",
    "\n",
    "    def firstsight(self, data):\n",
    "        \n",
    "        \"\"\"\n",
    "        Возврашает пять первых, последних и случайных элементов датасета для дальнейшего вывода с помощью Display\n",
    "        \n",
    "        Пример:\n",
    "        head, tail, sample = explorer.firstsight(df)\n",
    "        \"\"\"\n",
    "        \n",
    "        head = data.head(5)\n",
    "        tail = data.tail(5)\n",
    "        sample = data.sample(5)\n",
    "        \n",
    "        return head, tail, sample\n",
    "    \n",
    "    def reporter(self, confirmed, deaths, recovered):\n",
    "        cfr = (deaths / (deaths + recovered)) * 100\n",
    "\n",
    "        print('1. По состоянию на 19.01.2021:' + '\\n' + \n",
    "              ' - заболело {} '.format(confirmed)  + 'человек' + '\\n' +\n",
    "              ' - умерло {} '.format(deaths)  + 'человек' + '\\n' +\n",
    "              ' - выздоровело {} '.format(recovered)  + 'человек' + '\\n' +\n",
    "              '2. На сегодняшний день, исходя из представленных данных,' +\n",
    "              'принимая во внимание короткий период наблюдений летальность COVID-19 ' +\n",
    "              'составляет {:.2f} %'.format(cfr))    \n",
    "        \n",
    "    class Display(object):\n",
    "        \"\"\"\n",
    "        Выводит HTML представление нескольких объектов\n",
    "        \n",
    "        Пример:\n",
    "        Display(head, tail, sample)\n",
    "        \n",
    "        \"\"\"\n",
    "        template = \"\"\"<div style=\"float: left; padding: 10px;\">\n",
    "        <p style='font-family:\"Courier New\", Courier, monospace'>{0}</p>{1}\n",
    "        </div>\"\"\"\n",
    "        def __init__(self, *args):\n",
    "            self.args = args\n",
    "\n",
    "        def _repr_html_(self):\n",
    "            return '\\n'.join(self.template.format(a, eval(a)._repr_html_())\n",
    "                             for a in self.args)\n",
    "\n",
    "        def __repr__(self):\n",
    "            return '\\n\\n'.join(a + '\\n' + repr(eval(a))\n",
    "                               for a in self.args)"
   ]
  },
  {
   "cell_type": "code",
   "execution_count": null,
   "metadata": {},
   "outputs": [],
   "source": [
    "explorer = DataExplorer()"
   ]
  },
  {
   "cell_type": "markdown",
   "metadata": {},
   "source": [
    "# 2 Ознакомимся с данными\n",
    "***"
   ]
  },
  {
   "cell_type": "markdown",
   "metadata": {},
   "source": [
    "## 2.1 Прочитаем данные в переменную"
   ]
  },
  {
   "cell_type": "code",
   "execution_count": null,
   "metadata": {},
   "outputs": [],
   "source": [
    "df = pd.read_csv('covid_19_data.csv')"
   ]
  },
  {
   "cell_type": "markdown",
   "metadata": {},
   "source": [
    "## 2.2 Выведем первые, последние и случайные пять строк"
   ]
  },
  {
   "cell_type": "code",
   "execution_count": null,
   "metadata": {},
   "outputs": [],
   "source": [
    "head, tail, sample = explorer.firstsight(df)\n",
    "explorer.Display('head', 'tail', 'sample')"
   ]
  },
  {
   "cell_type": "markdown",
   "metadata": {},
   "source": [
    "&#9889; **Вывод:**\n",
    "\n",
    "1. В датасете есть пропуски в столбце 'Province/State' - данные отсутствуют в отношении стран с унитарным устройством,\n",
    "2. Столбцы с серийным номером (SNo), точная дата и время обновления (Last Update), наименование региона (LastProvince/State) - кандидаты на удаление в силу неинформативности.\n",
    "3. Число зараженных, смертей и вылечевшихся потребует приведению к целочисленному типу данных.\n",
    "4. Визуальное ознакомление не выявило существенных проблем с данными.\n",
    "5. Данные представлены от 22.01.2020 года до 19.01.2021 года."
   ]
  },
  {
   "cell_type": "markdown",
   "metadata": {},
   "source": [
    "## 2.3 Выведем общую информацию о датасете, общую статистику, проверим дубликаты, уникальные значения"
   ]
  },
  {
   "cell_type": "markdown",
   "metadata": {},
   "source": [
    "#### - общая информация и статистика о датасете"
   ]
  },
  {
   "cell_type": "code",
   "execution_count": null,
   "metadata": {},
   "outputs": [],
   "source": [
    "df.info()"
   ]
  },
  {
   "cell_type": "code",
   "execution_count": null,
   "metadata": {},
   "outputs": [],
   "source": [
    "df.describe().T"
   ]
  },
  {
   "cell_type": "code",
   "execution_count": null,
   "metadata": {},
   "outputs": [],
   "source": [
    "df.describe(include=['object']).T"
   ]
  },
  {
   "cell_type": "markdown",
   "metadata": {},
   "source": [
    "#### - проверим наличие полных дубликатов"
   ]
  },
  {
   "cell_type": "code",
   "execution_count": null,
   "metadata": {},
   "outputs": [],
   "source": [
    "df.duplicated().sum()"
   ]
  },
  {
   "cell_type": "markdown",
   "metadata": {},
   "source": [
    "&#9889; **Вывод:** \n",
    "1. В датасете 205 951 строк и 8 столбцов, есть множественные пропуски в столбце state.\n",
    "2. Пропуски в state - 55 377 значений из 205 951 (27 %).\n",
    "3. Странных значений не усматривается, дубликатов нет.\n",
    "4. В датасете представлено данные о 226 странах, больше всего из России (19 461 наблюдение, 9 %)."
   ]
  },
  {
   "cell_type": "markdown",
   "metadata": {},
   "source": [
    "# 3 Изменим регистр в наименовании столбцов, перименуем столбцы, приведенм данные к целочисленному типу"
   ]
  },
  {
   "cell_type": "markdown",
   "metadata": {},
   "source": [
    "#### - приведем к строчному написанию заголовки столбцов"
   ]
  },
  {
   "cell_type": "code",
   "execution_count": null,
   "metadata": {},
   "outputs": [],
   "source": [
    "df.columns = map(str.lower, df.columns)"
   ]
  },
  {
   "cell_type": "markdown",
   "metadata": {},
   "source": [
    "#### - переименуем столбцы с датой, регионом и страной, отбросим столбец 'last update' и 'sno' как неинформативные"
   ]
  },
  {
   "cell_type": "code",
   "execution_count": null,
   "metadata": {},
   "outputs": [],
   "source": [
    "df.drop(['sno','last update'], axis=1, inplace=True)"
   ]
  },
  {
   "cell_type": "code",
   "execution_count": null,
   "metadata": {},
   "outputs": [],
   "source": [
    "df.rename(columns={'observationdate': 'date',\n",
    "                   'province/state': 'state',\n",
    "                   'country/region':'country'}, inplace=True)"
   ]
  },
  {
   "cell_type": "markdown",
   "metadata": {},
   "source": [
    "#### - приведем столбы с наблюдениями о числе зараженных, умерших и выздоровевших в целочисленный тип, поскольку это дискретные величины"
   ]
  },
  {
   "cell_type": "code",
   "execution_count": null,
   "metadata": {},
   "outputs": [],
   "source": [
    "df['confirmed'] = df.confirmed.astype('int')\n",
    "df['deaths'] = df.deaths.astype('int')\n",
    "df['recovered'] = df.recovered.astype('int')"
   ]
  },
  {
   "cell_type": "markdown",
   "metadata": {},
   "source": [
    "# 4 Ознакомимся с данными в столбцах"
   ]
  },
  {
   "cell_type": "markdown",
   "metadata": {},
   "source": [
    "#### - confirmed (число подтвержденных случаев)"
   ]
  },
  {
   "cell_type": "code",
   "execution_count": null,
   "metadata": {},
   "outputs": [],
   "source": [
    "explorer.histogram(df.confirmed, 50, 0, 1000000, grid=False)"
   ]
  },
  {
   "cell_type": "markdown",
   "metadata": {},
   "source": [
    "Распредление скошено вправо, есть длинный хвост, пик у нуля. Построим ящик с усами с уменьшенным масштабом:"
   ]
  },
  {
   "cell_type": "code",
   "execution_count": null,
   "metadata": {},
   "outputs": [],
   "source": [
    "plt.ylim(0, 85000)\n",
    "df.boxplot('confirmed')"
   ]
  },
  {
   "cell_type": "markdown",
   "metadata": {},
   "source": [
    "Множественные выбросы, которые существенно влияют на среднее и медиану: ряд стран значительно опережают другие по числу зараженных."
   ]
  },
  {
   "cell_type": "markdown",
   "metadata": {},
   "source": [
    "#### - deaths (число смертей)"
   ]
  },
  {
   "cell_type": "code",
   "execution_count": null,
   "metadata": {},
   "outputs": [],
   "source": [
    "explorer.histogram(df.deaths, 50, 0, 25000, grid=False)"
   ]
  },
  {
   "cell_type": "markdown",
   "metadata": {},
   "source": [
    "Распредление также скошено вправо и есть длинный хвост, хотя пик у нуля. Построим для числа смертей ящик с усами с уменьшенным масштабом:"
   ]
  },
  {
   "cell_type": "code",
   "execution_count": null,
   "metadata": {},
   "outputs": [],
   "source": [
    "plt.ylim(0, 2000)\n",
    "df.boxplot('deaths')"
   ]
  },
  {
   "cell_type": "markdown",
   "metadata": {},
   "source": [
    "Также множественные выбросы: то же наблюдение - ряд стран значительно опережают другие по числу смертей от COVID-19."
   ]
  },
  {
   "cell_type": "markdown",
   "metadata": {},
   "source": [
    "#### - recovered (число вылечившихся)"
   ]
  },
  {
   "cell_type": "code",
   "execution_count": null,
   "metadata": {},
   "outputs": [],
   "source": [
    "explorer.histogram(df.recovered, 50, 0, 1000000, grid=False)"
   ]
  },
  {
   "cell_type": "markdown",
   "metadata": {},
   "source": [
    "Та же ситуация с числом выздоровевших - скошенные вправо вправо данные с длинным хвостом и все тот же пик у нуля. Построим для числа смертей ящик с усами с уменьшенным масштабом:"
   ]
  },
  {
   "cell_type": "code",
   "execution_count": null,
   "metadata": {},
   "outputs": [],
   "source": [
    "plt.ylim(-1000, 30000)\n",
    "df.boxplot('recovered')"
   ]
  },
  {
   "cell_type": "markdown",
   "metadata": {},
   "source": [
    "Также множественные выбросы"
   ]
  },
  {
   "cell_type": "markdown",
   "metadata": {},
   "source": [
    "&#9889; **Вывод:** \n",
    "1. В датасете есть выбросы - ряд стран лидируют по числу зараженных, смертей и выздоровевших.\n",
    "2. Поскольку наблюдения прямо связаны между собой в странах с большим числом зараженных должно быть большее число умерших и выздоровевших."
   ]
  },
  {
   "cell_type": "markdown",
   "metadata": {},
   "source": [
    "# 5 Подсчитаем летальность от COVID-19 на 07.04.2020 года"
   ]
  },
  {
   "cell_type": "markdown",
   "metadata": {},
   "source": [
    "#### - определение летальности"
   ]
  },
  {
   "cell_type": "markdown",
   "metadata": {},
   "source": [
    "- **[Летальность](https://ru.wikipedia.org/wiki/%D0%9B%D0%B5%D1%82%D0%B0%D0%BB%D1%8C%D0%BD%D0%BE%D1%81%D1%82%D1%8C)** — показатель медицинской статистики, равный отношению числа умерших от определённого заболевания или иного нарушения здоровья за определённый период времени к общему числу людей, имевших тот же диагноз в рамках того же периода времени. Обычно выражается в процентах. Показатель летальности не постоянен, он может изменяться между популяциями, а также с течением времени. Летальность зависит от разных факторов, которые могут включать особенности патогена в случае заболевания, состояние организма, внешние обстоятельства, способы лечения и качество ухода за больными. Расчётным периодом часто является год."
   ]
  },
  {
   "cell_type": "markdown",
   "metadata": {},
   "source": [
    "#### - формула для расчета"
   ]
  },
  {
   "cell_type": "markdown",
   "metadata": {},
   "source": [
    "$$\n",
    "\\displaystyle {{умерло}\\over{(умерло + вылечилось)}} \\times 100 %\n",
    "$$"
   ]
  },
  {
   "cell_type": "markdown",
   "metadata": {},
   "source": [
    "#### - подготовим данные для расчета"
   ]
  },
  {
   "cell_type": "markdown",
   "metadata": {},
   "source": [
    "- Сгруппируем по странам и датам, отсортируем по дате и избавимся от дубликатов, чтобы оставить только последние заиксированные наблюдения, отберем только наблюдения с потвержденными случаями"
   ]
  },
  {
   "cell_type": "code",
   "execution_count": null,
   "metadata": {},
   "outputs": [],
   "source": [
    "df_total = df.groupby(['country', 'date']).sum().reset_index().sort_values('date', ascending=False).drop_duplicates(subset = ['country'])\n",
    "df_total = df_total[df_total['confirmed'] > 0]"
   ]
  },
  {
   "cell_type": "markdown",
   "metadata": {},
   "source": [
    "#### - выведем общее число заболевших"
   ]
  },
  {
   "cell_type": "code",
   "execution_count": null,
   "metadata": {},
   "outputs": [],
   "source": [
    "confirmed = df_total.confirmed.sum()\n",
    "confirmed"
   ]
  },
  {
   "cell_type": "markdown",
   "metadata": {},
   "source": [
    "#### - выведем общее число умерших"
   ]
  },
  {
   "cell_type": "code",
   "execution_count": null,
   "metadata": {},
   "outputs": [],
   "source": [
    "deaths = df_total.deaths.sum()\n",
    "deaths"
   ]
  },
  {
   "cell_type": "markdown",
   "metadata": {},
   "source": [
    "#### - выведем общее число выздоровевших"
   ]
  },
  {
   "cell_type": "code",
   "execution_count": null,
   "metadata": {},
   "outputs": [],
   "source": [
    "recovered = df_total.recovered.sum()\n",
    "recovered"
   ]
  },
  {
   "cell_type": "markdown",
   "metadata": {},
   "source": [
    "#### - расчитаем летальность по формуле и выведем итоговый отчет"
   ]
  },
  {
   "cell_type": "code",
   "execution_count": null,
   "metadata": {},
   "outputs": [],
   "source": [
    "cfr = (df_total.deaths.sum() / (df_total.deaths.sum() + df_total.recovered.sum())) * 100\n",
    "cfr"
   ]
  },
  {
   "cell_type": "markdown",
   "metadata": {},
   "source": [
    "&#9889; **Вывод:** "
   ]
  },
  {
   "cell_type": "code",
   "execution_count": null,
   "metadata": {},
   "outputs": [],
   "source": [
    "explorer.reporter(confirmed, deaths, recovered)"
   ]
  },
  {
   "cell_type": "markdown",
   "metadata": {},
   "source": [
    "# 6 Визуализируем данные о числе зараженных на 19.01.2021 года"
   ]
  },
  {
   "cell_type": "markdown",
   "metadata": {},
   "source": [
    "#### - визуализируем общую карту с числом подтвержденных случаев"
   ]
  },
  {
   "cell_type": "code",
   "execution_count": null,
   "metadata": {},
   "outputs": [],
   "source": [
    "explorer.plotly_choropleth(df_total, z='confirmed', title='Подтвержденные случаи на 19.01.2021 года')"
   ]
  },
  {
   "cell_type": "markdown",
   "metadata": {},
   "source": [
    "#### - нарисуем столбчатый график с первыми десятью странами по числу выявленных зараженных"
   ]
  },
  {
   "cell_type": "code",
   "execution_count": null,
   "metadata": {},
   "outputs": [],
   "source": [
    "top_ten = df_total.sort_values(by='confirmed', ascending=False).head(10)"
   ]
  },
  {
   "cell_type": "code",
   "execution_count": null,
   "metadata": {},
   "outputs": [],
   "source": [
    "explorer.plotly_bar(top_ten, 'country', 'confirmed', 'confirmed', '', 'Число заболевших', 'Подтвержденные случаи на 19.01.2021 года')"
   ]
  },
  {
   "cell_type": "markdown",
   "metadata": {},
   "source": [
    "#### - визуализируем соотношение заболевших, умерших и выздоровевших для первых десяти странами по числу выявленных зараженных"
   ]
  },
  {
   "cell_type": "code",
   "execution_count": null,
   "metadata": {},
   "outputs": [],
   "source": [
    "explorer.plotly_sided_bar(top_ten)"
   ]
  },
  {
   "cell_type": "markdown",
   "metadata": {},
   "source": [
    "#### - выведем три страны с самым большим числом заболевших на сегодняшний день"
   ]
  },
  {
   "cell_type": "code",
   "execution_count": null,
   "metadata": {},
   "outputs": [],
   "source": [
    "top_ten.head(3)"
   ]
  },
  {
   "cell_type": "markdown",
   "metadata": {},
   "source": [
    "#### - выведем статистику для России на сегодняшний день"
   ]
  },
  {
   "cell_type": "code",
   "execution_count": null,
   "metadata": {},
   "outputs": [],
   "source": [
    "df_total[df_total['country'] == 'Russia']"
   ]
  },
  {
   "cell_type": "markdown",
   "metadata": {},
   "source": [
    "# 7 Визуализируем динамику распространения COVID-19"
   ]
  },
  {
   "cell_type": "markdown",
   "metadata": {},
   "source": [
    "#### - подготовим сводные данные по дате"
   ]
  },
  {
   "cell_type": "code",
   "execution_count": null,
   "metadata": {},
   "outputs": [],
   "source": [
    "df_date = df[df['confirmed'] > 0]\n",
    "df_date = df_date.groupby(['date','country']).sum().reset_index()"
   ]
  },
  {
   "cell_type": "markdown",
   "metadata": {},
   "source": [
    "#### - визуализируем динамику распространения COVID-19"
   ]
  },
  {
   "cell_type": "code",
   "execution_count": null,
   "metadata": {},
   "outputs": [],
   "source": [
    "explorer.plotly_animated_choropleth(df_date, color='confirmed', title='Распространие COVID-19 во времени')"
   ]
  }
 ],
 "metadata": {
  "kernelspec": {
   "display_name": "Python 3",
   "language": "python",
   "name": "python3"
  },
  "language_info": {
   "codemirror_mode": {
    "name": "ipython",
    "version": 3
   },
   "file_extension": ".py",
   "mimetype": "text/x-python",
   "name": "python",
   "nbconvert_exporter": "python",
   "pygments_lexer": "ipython3",
   "version": "3.7.9"
  },
  "toc": {
   "base_numbering": 1,
   "nav_menu": {},
   "number_sections": false,
   "sideBar": true,
   "skip_h1_title": false,
   "title_cell": "Оглавление",
   "title_sidebar": "Содержание",
   "toc_cell": true,
   "toc_position": {
    "height": "calc(100% - 180px)",
    "left": "10px",
    "top": "150px",
    "width": "216px"
   },
   "toc_section_display": true,
   "toc_window_display": true
  },
  "varInspector": {
   "cols": {
    "lenName": 16,
    "lenType": 16,
    "lenVar": 40
   },
   "kernels_config": {
    "python": {
     "delete_cmd_postfix": "",
     "delete_cmd_prefix": "del ",
     "library": "var_list.py",
     "varRefreshCmd": "print(var_dic_list())"
    },
    "r": {
     "delete_cmd_postfix": ") ",
     "delete_cmd_prefix": "rm(",
     "library": "var_list.r",
     "varRefreshCmd": "cat(var_dic_list()) "
    }
   },
   "position": {
    "height": "416px",
    "left": "1546px",
    "right": "20px",
    "top": "120px",
    "width": "354px"
   },
   "types_to_exclude": [
    "module",
    "function",
    "builtin_function_or_method",
    "instance",
    "_Feature"
   ],
   "window_display": false
  }
 },
 "nbformat": 4,
 "nbformat_minor": 4
}
